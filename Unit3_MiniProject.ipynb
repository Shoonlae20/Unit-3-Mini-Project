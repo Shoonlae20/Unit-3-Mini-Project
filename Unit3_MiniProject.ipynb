{
  "nbformat": 4,
  "nbformat_minor": 0,
  "metadata": {
    "colab": {
      "name": "Unit3_MiniProject.ipynb",
      "provenance": []
    },
    "kernelspec": {
      "name": "python3",
      "display_name": "Python 3"
    }
  },
  "cells": [
    {
      "cell_type": "code",
      "metadata": {
        "colab": {
          "base_uri": "https://localhost:8080/"
        },
        "id": "F5Vicbxwqzvb",
        "outputId": "a8aa9265-85a1-45aa-c2b3-0dc8ab2384a3"
      },
      "source": [
        "#Task 1 : Environment Set Up\n",
        "import numpy as np\n",
        "import pandas as pd\n",
        "import matplotlib.pyplot as plt\n",
        "%matplotlib inline\n",
        "\n",
        "df = pd.read_csv('https://raw.githubusercontent.com/nytimes/covid-19-data/master/us-counties.csv')\n",
        "df.columns\n"
      ],
      "execution_count": 26,
      "outputs": [
        {
          "output_type": "execute_result",
          "data": {
            "text/plain": [
              "Index(['date', 'county', 'state', 'fips', 'cases', 'deaths'], dtype='object')"
            ]
          },
          "metadata": {
            "tags": []
          },
          "execution_count": 26
        }
      ]
    },
    {
      "cell_type": "code",
      "metadata": {
        "colab": {
          "base_uri": "https://localhost:8080/"
        },
        "id": "NgMGBeYCyo2u",
        "outputId": "feb2114d-8002-48fe-d95d-14f7303dbaf0"
      },
      "source": [
        "#Task 2 : Data Collection\n",
        "df.groupby([\"state\"])[\"cases\"].max()"
      ],
      "execution_count": 28,
      "outputs": [
        {
          "output_type": "execute_result",
          "data": {
            "text/plain": [
              "state\n",
              "Alabama                       62039\n",
              "Alaska                        24533\n",
              "Arizona                      417839\n",
              "Arkansas                      30299\n",
              "California                  1015063\n",
              "Colorado                      53319\n",
              "Connecticut                   65725\n",
              "Delaware                      40199\n",
              "District of Columbia          33851\n",
              "Florida                      344245\n",
              "Georgia                       72270\n",
              "Guam                           8453\n",
              "Hawaii                        20055\n",
              "Idaho                         42506\n",
              "Illinois                     433089\n",
              "Indiana                       81755\n",
              "Iowa                          45397\n",
              "Kansas                        46446\n",
              "Kentucky                      61424\n",
              "Louisiana                     37684\n",
              "Maine                          9794\n",
              "Maryland                      62985\n",
              "Massachusetts                 92781\n",
              "Michigan                      92476\n",
              "Minnesota                     92747\n",
              "Mississippi                   17120\n",
              "Missouri                      78438\n",
              "Montana                       14725\n",
              "Nebraska                      58393\n",
              "Nevada                       200597\n",
              "New Hampshire                 22446\n",
              "New Jersey                    60704\n",
              "New Mexico                    46349\n",
              "New York                     529834\n",
              "North Carolina                77030\n",
              "North Dakota                  20633\n",
              "Northern Mariana Islands        126\n",
              "Ohio                          97493\n",
              "Oklahoma                      68940\n",
              "Oregon                        28337\n",
              "Pennsylvania                 102837\n",
              "Puerto Rico                   16591\n",
              "Rhode Island                  67526\n",
              "South Carolina                48934\n",
              "South Dakota                  26399\n",
              "Tennessee                     79517\n",
              "Texas                        284917\n",
              "Utah                         122400\n",
              "Vermont                        3536\n",
              "Virgin Islands                 1129\n",
              "Virginia                      53976\n",
              "Washington                    73017\n",
              "West Virginia                 10239\n",
              "Wisconsin                     99455\n",
              "Wyoming                        7754\n",
              "Name: cases, dtype: int64"
            ]
          },
          "metadata": {
            "tags": []
          },
          "execution_count": 28
        }
      ]
    },
    {
      "cell_type": "code",
      "metadata": {
        "colab": {
          "base_uri": "https://localhost:8080/",
          "height": 669
        },
        "id": "ky2Fw898XNMx",
        "outputId": "fd77fb69-ae45-4e47-b87f-2e8a10a41810"
      },
      "source": [
        "df = pd.read_csv(\"https://raw.githubusercontent.com/nytimes/covid-19-data/master/us-counties.csv\")\n",
        "df.head(20)\n"
      ],
      "execution_count": 30,
      "outputs": [
        {
          "output_type": "execute_result",
          "data": {
            "text/html": [
              "<div>\n",
              "<style scoped>\n",
              "    .dataframe tbody tr th:only-of-type {\n",
              "        vertical-align: middle;\n",
              "    }\n",
              "\n",
              "    .dataframe tbody tr th {\n",
              "        vertical-align: top;\n",
              "    }\n",
              "\n",
              "    .dataframe thead th {\n",
              "        text-align: right;\n",
              "    }\n",
              "</style>\n",
              "<table border=\"1\" class=\"dataframe\">\n",
              "  <thead>\n",
              "    <tr style=\"text-align: right;\">\n",
              "      <th></th>\n",
              "      <th>date</th>\n",
              "      <th>county</th>\n",
              "      <th>state</th>\n",
              "      <th>fips</th>\n",
              "      <th>cases</th>\n",
              "      <th>deaths</th>\n",
              "    </tr>\n",
              "  </thead>\n",
              "  <tbody>\n",
              "    <tr>\n",
              "      <th>0</th>\n",
              "      <td>2020-01-21</td>\n",
              "      <td>Snohomish</td>\n",
              "      <td>Washington</td>\n",
              "      <td>53061.0</td>\n",
              "      <td>1</td>\n",
              "      <td>0.0</td>\n",
              "    </tr>\n",
              "    <tr>\n",
              "      <th>1</th>\n",
              "      <td>2020-01-22</td>\n",
              "      <td>Snohomish</td>\n",
              "      <td>Washington</td>\n",
              "      <td>53061.0</td>\n",
              "      <td>1</td>\n",
              "      <td>0.0</td>\n",
              "    </tr>\n",
              "    <tr>\n",
              "      <th>2</th>\n",
              "      <td>2020-01-23</td>\n",
              "      <td>Snohomish</td>\n",
              "      <td>Washington</td>\n",
              "      <td>53061.0</td>\n",
              "      <td>1</td>\n",
              "      <td>0.0</td>\n",
              "    </tr>\n",
              "    <tr>\n",
              "      <th>3</th>\n",
              "      <td>2020-01-24</td>\n",
              "      <td>Cook</td>\n",
              "      <td>Illinois</td>\n",
              "      <td>17031.0</td>\n",
              "      <td>1</td>\n",
              "      <td>0.0</td>\n",
              "    </tr>\n",
              "    <tr>\n",
              "      <th>4</th>\n",
              "      <td>2020-01-24</td>\n",
              "      <td>Snohomish</td>\n",
              "      <td>Washington</td>\n",
              "      <td>53061.0</td>\n",
              "      <td>1</td>\n",
              "      <td>0.0</td>\n",
              "    </tr>\n",
              "    <tr>\n",
              "      <th>5</th>\n",
              "      <td>2020-01-25</td>\n",
              "      <td>Orange</td>\n",
              "      <td>California</td>\n",
              "      <td>6059.0</td>\n",
              "      <td>1</td>\n",
              "      <td>0.0</td>\n",
              "    </tr>\n",
              "    <tr>\n",
              "      <th>6</th>\n",
              "      <td>2020-01-25</td>\n",
              "      <td>Cook</td>\n",
              "      <td>Illinois</td>\n",
              "      <td>17031.0</td>\n",
              "      <td>1</td>\n",
              "      <td>0.0</td>\n",
              "    </tr>\n",
              "    <tr>\n",
              "      <th>7</th>\n",
              "      <td>2020-01-25</td>\n",
              "      <td>Snohomish</td>\n",
              "      <td>Washington</td>\n",
              "      <td>53061.0</td>\n",
              "      <td>1</td>\n",
              "      <td>0.0</td>\n",
              "    </tr>\n",
              "    <tr>\n",
              "      <th>8</th>\n",
              "      <td>2020-01-26</td>\n",
              "      <td>Maricopa</td>\n",
              "      <td>Arizona</td>\n",
              "      <td>4013.0</td>\n",
              "      <td>1</td>\n",
              "      <td>0.0</td>\n",
              "    </tr>\n",
              "    <tr>\n",
              "      <th>9</th>\n",
              "      <td>2020-01-26</td>\n",
              "      <td>Los Angeles</td>\n",
              "      <td>California</td>\n",
              "      <td>6037.0</td>\n",
              "      <td>1</td>\n",
              "      <td>0.0</td>\n",
              "    </tr>\n",
              "    <tr>\n",
              "      <th>10</th>\n",
              "      <td>2020-01-26</td>\n",
              "      <td>Orange</td>\n",
              "      <td>California</td>\n",
              "      <td>6059.0</td>\n",
              "      <td>1</td>\n",
              "      <td>0.0</td>\n",
              "    </tr>\n",
              "    <tr>\n",
              "      <th>11</th>\n",
              "      <td>2020-01-26</td>\n",
              "      <td>Cook</td>\n",
              "      <td>Illinois</td>\n",
              "      <td>17031.0</td>\n",
              "      <td>1</td>\n",
              "      <td>0.0</td>\n",
              "    </tr>\n",
              "    <tr>\n",
              "      <th>12</th>\n",
              "      <td>2020-01-26</td>\n",
              "      <td>Snohomish</td>\n",
              "      <td>Washington</td>\n",
              "      <td>53061.0</td>\n",
              "      <td>1</td>\n",
              "      <td>0.0</td>\n",
              "    </tr>\n",
              "    <tr>\n",
              "      <th>13</th>\n",
              "      <td>2020-01-27</td>\n",
              "      <td>Maricopa</td>\n",
              "      <td>Arizona</td>\n",
              "      <td>4013.0</td>\n",
              "      <td>1</td>\n",
              "      <td>0.0</td>\n",
              "    </tr>\n",
              "    <tr>\n",
              "      <th>14</th>\n",
              "      <td>2020-01-27</td>\n",
              "      <td>Los Angeles</td>\n",
              "      <td>California</td>\n",
              "      <td>6037.0</td>\n",
              "      <td>1</td>\n",
              "      <td>0.0</td>\n",
              "    </tr>\n",
              "    <tr>\n",
              "      <th>15</th>\n",
              "      <td>2020-01-27</td>\n",
              "      <td>Orange</td>\n",
              "      <td>California</td>\n",
              "      <td>6059.0</td>\n",
              "      <td>1</td>\n",
              "      <td>0.0</td>\n",
              "    </tr>\n",
              "    <tr>\n",
              "      <th>16</th>\n",
              "      <td>2020-01-27</td>\n",
              "      <td>Cook</td>\n",
              "      <td>Illinois</td>\n",
              "      <td>17031.0</td>\n",
              "      <td>1</td>\n",
              "      <td>0.0</td>\n",
              "    </tr>\n",
              "    <tr>\n",
              "      <th>17</th>\n",
              "      <td>2020-01-27</td>\n",
              "      <td>Snohomish</td>\n",
              "      <td>Washington</td>\n",
              "      <td>53061.0</td>\n",
              "      <td>1</td>\n",
              "      <td>0.0</td>\n",
              "    </tr>\n",
              "    <tr>\n",
              "      <th>18</th>\n",
              "      <td>2020-01-28</td>\n",
              "      <td>Maricopa</td>\n",
              "      <td>Arizona</td>\n",
              "      <td>4013.0</td>\n",
              "      <td>1</td>\n",
              "      <td>0.0</td>\n",
              "    </tr>\n",
              "    <tr>\n",
              "      <th>19</th>\n",
              "      <td>2020-01-28</td>\n",
              "      <td>Los Angeles</td>\n",
              "      <td>California</td>\n",
              "      <td>6037.0</td>\n",
              "      <td>1</td>\n",
              "      <td>0.0</td>\n",
              "    </tr>\n",
              "  </tbody>\n",
              "</table>\n",
              "</div>"
            ],
            "text/plain": [
              "          date       county       state     fips  cases  deaths\n",
              "0   2020-01-21    Snohomish  Washington  53061.0      1     0.0\n",
              "1   2020-01-22    Snohomish  Washington  53061.0      1     0.0\n",
              "2   2020-01-23    Snohomish  Washington  53061.0      1     0.0\n",
              "3   2020-01-24         Cook    Illinois  17031.0      1     0.0\n",
              "4   2020-01-24    Snohomish  Washington  53061.0      1     0.0\n",
              "5   2020-01-25       Orange  California   6059.0      1     0.0\n",
              "6   2020-01-25         Cook    Illinois  17031.0      1     0.0\n",
              "7   2020-01-25    Snohomish  Washington  53061.0      1     0.0\n",
              "8   2020-01-26     Maricopa     Arizona   4013.0      1     0.0\n",
              "9   2020-01-26  Los Angeles  California   6037.0      1     0.0\n",
              "10  2020-01-26       Orange  California   6059.0      1     0.0\n",
              "11  2020-01-26         Cook    Illinois  17031.0      1     0.0\n",
              "12  2020-01-26    Snohomish  Washington  53061.0      1     0.0\n",
              "13  2020-01-27     Maricopa     Arizona   4013.0      1     0.0\n",
              "14  2020-01-27  Los Angeles  California   6037.0      1     0.0\n",
              "15  2020-01-27       Orange  California   6059.0      1     0.0\n",
              "16  2020-01-27         Cook    Illinois  17031.0      1     0.0\n",
              "17  2020-01-27    Snohomish  Washington  53061.0      1     0.0\n",
              "18  2020-01-28     Maricopa     Arizona   4013.0      1     0.0\n",
              "19  2020-01-28  Los Angeles  California   6037.0      1     0.0"
            ]
          },
          "metadata": {
            "tags": []
          },
          "execution_count": 30
        }
      ]
    },
    {
      "cell_type": "code",
      "metadata": {
        "colab": {
          "base_uri": "https://localhost:8080/",
          "height": 423
        },
        "id": "7ToiGjumy2_R",
        "outputId": "705b0579-4a8f-47e5-d1ff-a8d569caabca"
      },
      "source": [
        "print(df.groupby([\"state\"])[\"cases\"].sum().sort_values(ascending = True).plot(kind=\"bar\"))"
      ],
      "execution_count": 29,
      "outputs": [
        {
          "output_type": "stream",
          "text": [
            "AxesSubplot(0.125,0.125;0.775x0.755)\n"
          ],
          "name": "stdout"
        },
        {
          "output_type": "display_data",
          "data": {
            "image/png": "[encoded data removed]",
            "text/plain": [
              "<Figure size 432x288 with 1 Axes>"
            ]
          },
          "metadata": {
            "tags": [],
            "needs_background": "light"
          }
        }
      ]
    },
    {
      "cell_type": "code",
      "metadata": {
        "colab": {
          "base_uri": "https://localhost:8080/",
          "height": 419
        },
        "id": "IVJRNm1gV72B",
        "outputId": "fc74038f-38cd-4843-f7e6-9195d51a2c10"
      },
      "source": [
        "#Task 3 : Data Wrangling & EDA\n",
        "NY_df= df[(df[\"state\"]==\"New York\") & (df[\"county\"]==\"Saratoga\")]\n",
        "NY_df"
      ],
      "execution_count": 33,
      "outputs": [
        {
          "output_type": "execute_result",
          "data": {
            "text/html": [
              "<div>\n",
              "<style scoped>\n",
              "    .dataframe tbody tr th:only-of-type {\n",
              "        vertical-align: middle;\n",
              "    }\n",
              "\n",
              "    .dataframe tbody tr th {\n",
              "        vertical-align: top;\n",
              "    }\n",
              "\n",
              "    .dataframe thead th {\n",
              "        text-align: right;\n",
              "    }\n",
              "</style>\n",
              "<table border=\"1\" class=\"dataframe\">\n",
              "  <thead>\n",
              "    <tr style=\"text-align: right;\">\n",
              "      <th></th>\n",
              "      <th>date</th>\n",
              "      <th>county</th>\n",
              "      <th>state</th>\n",
              "      <th>fips</th>\n",
              "      <th>cases</th>\n",
              "      <th>deaths</th>\n",
              "    </tr>\n",
              "  </thead>\n",
              "  <tbody>\n",
              "    <tr>\n",
              "      <th>717</th>\n",
              "      <td>2020-03-07</td>\n",
              "      <td>Saratoga</td>\n",
              "      <td>New York</td>\n",
              "      <td>36091.0</td>\n",
              "      <td>2</td>\n",
              "      <td>0.0</td>\n",
              "    </tr>\n",
              "    <tr>\n",
              "      <th>822</th>\n",
              "      <td>2020-03-08</td>\n",
              "      <td>Saratoga</td>\n",
              "      <td>New York</td>\n",
              "      <td>36091.0</td>\n",
              "      <td>2</td>\n",
              "      <td>0.0</td>\n",
              "    </tr>\n",
              "    <tr>\n",
              "      <th>949</th>\n",
              "      <td>2020-03-09</td>\n",
              "      <td>Saratoga</td>\n",
              "      <td>New York</td>\n",
              "      <td>36091.0</td>\n",
              "      <td>2</td>\n",
              "      <td>0.0</td>\n",
              "    </tr>\n",
              "    <tr>\n",
              "      <th>1100</th>\n",
              "      <td>2020-03-10</td>\n",
              "      <td>Saratoga</td>\n",
              "      <td>New York</td>\n",
              "      <td>36091.0</td>\n",
              "      <td>2</td>\n",
              "      <td>0.0</td>\n",
              "    </tr>\n",
              "    <tr>\n",
              "      <th>1287</th>\n",
              "      <td>2020-03-11</td>\n",
              "      <td>Saratoga</td>\n",
              "      <td>New York</td>\n",
              "      <td>36091.0</td>\n",
              "      <td>2</td>\n",
              "      <td>0.0</td>\n",
              "    </tr>\n",
              "    <tr>\n",
              "      <th>...</th>\n",
              "      <td>...</td>\n",
              "      <td>...</td>\n",
              "      <td>...</td>\n",
              "      <td>...</td>\n",
              "      <td>...</td>\n",
              "      <td>...</td>\n",
              "    </tr>\n",
              "    <tr>\n",
              "      <th>925648</th>\n",
              "      <td>2021-01-13</td>\n",
              "      <td>Saratoga</td>\n",
              "      <td>New York</td>\n",
              "      <td>36091.0</td>\n",
              "      <td>8226</td>\n",
              "      <td>65.0</td>\n",
              "    </tr>\n",
              "    <tr>\n",
              "      <th>928893</th>\n",
              "      <td>2021-01-14</td>\n",
              "      <td>Saratoga</td>\n",
              "      <td>New York</td>\n",
              "      <td>36091.0</td>\n",
              "      <td>8447</td>\n",
              "      <td>69.0</td>\n",
              "    </tr>\n",
              "    <tr>\n",
              "      <th>932138</th>\n",
              "      <td>2021-01-15</td>\n",
              "      <td>Saratoga</td>\n",
              "      <td>New York</td>\n",
              "      <td>36091.0</td>\n",
              "      <td>8653</td>\n",
              "      <td>76.0</td>\n",
              "    </tr>\n",
              "    <tr>\n",
              "      <th>935383</th>\n",
              "      <td>2021-01-16</td>\n",
              "      <td>Saratoga</td>\n",
              "      <td>New York</td>\n",
              "      <td>36091.0</td>\n",
              "      <td>8839</td>\n",
              "      <td>78.0</td>\n",
              "    </tr>\n",
              "    <tr>\n",
              "      <th>938628</th>\n",
              "      <td>2021-01-17</td>\n",
              "      <td>Saratoga</td>\n",
              "      <td>New York</td>\n",
              "      <td>36091.0</td>\n",
              "      <td>8984</td>\n",
              "      <td>79.0</td>\n",
              "    </tr>\n",
              "  </tbody>\n",
              "</table>\n",
              "<p>317 rows × 6 columns</p>\n",
              "</div>"
            ],
            "text/plain": [
              "              date    county     state     fips  cases  deaths\n",
              "717     2020-03-07  Saratoga  New York  36091.0      2     0.0\n",
              "822     2020-03-08  Saratoga  New York  36091.0      2     0.0\n",
              "949     2020-03-09  Saratoga  New York  36091.0      2     0.0\n",
              "1100    2020-03-10  Saratoga  New York  36091.0      2     0.0\n",
              "1287    2020-03-11  Saratoga  New York  36091.0      2     0.0\n",
              "...            ...       ...       ...      ...    ...     ...\n",
              "925648  2021-01-13  Saratoga  New York  36091.0   8226    65.0\n",
              "928893  2021-01-14  Saratoga  New York  36091.0   8447    69.0\n",
              "932138  2021-01-15  Saratoga  New York  36091.0   8653    76.0\n",
              "935383  2021-01-16  Saratoga  New York  36091.0   8839    78.0\n",
              "938628  2021-01-17  Saratoga  New York  36091.0   8984    79.0\n",
              "\n",
              "[317 rows x 6 columns]"
            ]
          },
          "metadata": {
            "tags": []
          },
          "execution_count": 33
        }
      ]
    },
    {
      "cell_type": "code",
      "metadata": {
        "colab": {
          "base_uri": "https://localhost:8080/",
          "height": 282
        },
        "id": "lUE6TvAScueH",
        "outputId": "84f88151-7063-453d-82c2-2a9fdccabe50"
      },
      "source": [
        "#Visualization of COVID cases in Saratoga County\n",
        "NY_df = NY_df[[\"cases\",\"deaths\"]]\n",
        "NY_df.plot()"
      ],
      "execution_count": 44,
      "outputs": [
        {
          "output_type": "execute_result",
          "data": {
            "text/plain": [
              "<matplotlib.axes._subplots.AxesSubplot at 0x7f84a3fab6a0>"
            ]
          },
          "metadata": {
            "tags": []
          },
          "execution_count": 44
        },
        {
          "output_type": "display_data",
          "data": {
            "image/png": "[encoded data removed]",
            "text/plain": [
              "<Figure size 432x288 with 1 Axes>"
            ]
          },
          "metadata": {
            "tags": [],
            "needs_background": "light"
          }
        }
      ]
    },
    {
      "cell_type": "code",
      "metadata": {
        "colab": {
          "base_uri": "https://localhost:8080/",
          "height": 1000
        },
        "id": "PTHJtaq4ZxBi",
        "outputId": "f7f62292-22f7-4110-e8af-81f908351ffa"
      },
      "source": [
        "#Task 4 : Understand NY COVID-19 data in the last 30 days\n",
        "#Saratoga COVID-19 data for the past 30 days\n",
        "Saratoga_data = NY_df[(df[\"date\"] > \"2020-12-15\") & (df[\"date\"] < \"2021-01-15\")]\n",
        "Saratoga_data"
      ],
      "execution_count": 38,
      "outputs": [
        {
          "output_type": "stream",
          "text": [
            "/usr/local/lib/python3.6/dist-packages/ipykernel_launcher.py:2: UserWarning: Boolean Series key will be reindexed to match DataFrame index.\n",
            "  \n"
          ],
          "name": "stderr"
        },
        {
          "output_type": "execute_result",
          "data": {
            "text/html": [
              "<div>\n",
              "<style scoped>\n",
              "    .dataframe tbody tr th:only-of-type {\n",
              "        vertical-align: middle;\n",
              "    }\n",
              "\n",
              "    .dataframe tbody tr th {\n",
              "        vertical-align: top;\n",
              "    }\n",
              "\n",
              "    .dataframe thead th {\n",
              "        text-align: right;\n",
              "    }\n",
              "</style>\n",
              "<table border=\"1\" class=\"dataframe\">\n",
              "  <thead>\n",
              "    <tr style=\"text-align: right;\">\n",
              "      <th></th>\n",
              "      <th>date</th>\n",
              "      <th>county</th>\n",
              "      <th>state</th>\n",
              "      <th>fips</th>\n",
              "      <th>cases</th>\n",
              "      <th>deaths</th>\n",
              "    </tr>\n",
              "  </thead>\n",
              "  <tbody>\n",
              "    <tr>\n",
              "      <th>834780</th>\n",
              "      <td>2020-12-16</td>\n",
              "      <td>Saratoga</td>\n",
              "      <td>New York</td>\n",
              "      <td>36091.0</td>\n",
              "      <td>3716</td>\n",
              "      <td>26.0</td>\n",
              "    </tr>\n",
              "    <tr>\n",
              "      <th>838026</th>\n",
              "      <td>2020-12-17</td>\n",
              "      <td>Saratoga</td>\n",
              "      <td>New York</td>\n",
              "      <td>36091.0</td>\n",
              "      <td>3809</td>\n",
              "      <td>26.0</td>\n",
              "    </tr>\n",
              "    <tr>\n",
              "      <th>841271</th>\n",
              "      <td>2020-12-18</td>\n",
              "      <td>Saratoga</td>\n",
              "      <td>New York</td>\n",
              "      <td>36091.0</td>\n",
              "      <td>3908</td>\n",
              "      <td>27.0</td>\n",
              "    </tr>\n",
              "    <tr>\n",
              "      <th>844517</th>\n",
              "      <td>2020-12-19</td>\n",
              "      <td>Saratoga</td>\n",
              "      <td>New York</td>\n",
              "      <td>36091.0</td>\n",
              "      <td>4008</td>\n",
              "      <td>28.0</td>\n",
              "    </tr>\n",
              "    <tr>\n",
              "      <th>847762</th>\n",
              "      <td>2020-12-20</td>\n",
              "      <td>Saratoga</td>\n",
              "      <td>New York</td>\n",
              "      <td>36091.0</td>\n",
              "      <td>4096</td>\n",
              "      <td>28.0</td>\n",
              "    </tr>\n",
              "    <tr>\n",
              "      <th>851007</th>\n",
              "      <td>2020-12-21</td>\n",
              "      <td>Saratoga</td>\n",
              "      <td>New York</td>\n",
              "      <td>36091.0</td>\n",
              "      <td>4179</td>\n",
              "      <td>29.0</td>\n",
              "    </tr>\n",
              "    <tr>\n",
              "      <th>854252</th>\n",
              "      <td>2020-12-22</td>\n",
              "      <td>Saratoga</td>\n",
              "      <td>New York</td>\n",
              "      <td>36091.0</td>\n",
              "      <td>4316</td>\n",
              "      <td>29.0</td>\n",
              "    </tr>\n",
              "    <tr>\n",
              "      <th>857497</th>\n",
              "      <td>2020-12-23</td>\n",
              "      <td>Saratoga</td>\n",
              "      <td>New York</td>\n",
              "      <td>36091.0</td>\n",
              "      <td>4414</td>\n",
              "      <td>29.0</td>\n",
              "    </tr>\n",
              "    <tr>\n",
              "      <th>860742</th>\n",
              "      <td>2020-12-24</td>\n",
              "      <td>Saratoga</td>\n",
              "      <td>New York</td>\n",
              "      <td>36091.0</td>\n",
              "      <td>4608</td>\n",
              "      <td>30.0</td>\n",
              "    </tr>\n",
              "    <tr>\n",
              "      <th>863987</th>\n",
              "      <td>2020-12-25</td>\n",
              "      <td>Saratoga</td>\n",
              "      <td>New York</td>\n",
              "      <td>36091.0</td>\n",
              "      <td>4741</td>\n",
              "      <td>32.0</td>\n",
              "    </tr>\n",
              "    <tr>\n",
              "      <th>867232</th>\n",
              "      <td>2020-12-26</td>\n",
              "      <td>Saratoga</td>\n",
              "      <td>New York</td>\n",
              "      <td>36091.0</td>\n",
              "      <td>4868</td>\n",
              "      <td>34.0</td>\n",
              "    </tr>\n",
              "    <tr>\n",
              "      <th>870477</th>\n",
              "      <td>2020-12-27</td>\n",
              "      <td>Saratoga</td>\n",
              "      <td>New York</td>\n",
              "      <td>36091.0</td>\n",
              "      <td>4993</td>\n",
              "      <td>35.0</td>\n",
              "    </tr>\n",
              "    <tr>\n",
              "      <th>873722</th>\n",
              "      <td>2020-12-28</td>\n",
              "      <td>Saratoga</td>\n",
              "      <td>New York</td>\n",
              "      <td>36091.0</td>\n",
              "      <td>5130</td>\n",
              "      <td>36.0</td>\n",
              "    </tr>\n",
              "    <tr>\n",
              "      <th>876967</th>\n",
              "      <td>2020-12-29</td>\n",
              "      <td>Saratoga</td>\n",
              "      <td>New York</td>\n",
              "      <td>36091.0</td>\n",
              "      <td>5268</td>\n",
              "      <td>38.0</td>\n",
              "    </tr>\n",
              "    <tr>\n",
              "      <th>880212</th>\n",
              "      <td>2020-12-30</td>\n",
              "      <td>Saratoga</td>\n",
              "      <td>New York</td>\n",
              "      <td>36091.0</td>\n",
              "      <td>5413</td>\n",
              "      <td>38.0</td>\n",
              "    </tr>\n",
              "    <tr>\n",
              "      <th>883457</th>\n",
              "      <td>2020-12-31</td>\n",
              "      <td>Saratoga</td>\n",
              "      <td>New York</td>\n",
              "      <td>36091.0</td>\n",
              "      <td>5588</td>\n",
              "      <td>40.0</td>\n",
              "    </tr>\n",
              "    <tr>\n",
              "      <th>886702</th>\n",
              "      <td>2021-01-01</td>\n",
              "      <td>Saratoga</td>\n",
              "      <td>New York</td>\n",
              "      <td>36091.0</td>\n",
              "      <td>5796</td>\n",
              "      <td>43.0</td>\n",
              "    </tr>\n",
              "    <tr>\n",
              "      <th>889949</th>\n",
              "      <td>2021-01-02</td>\n",
              "      <td>Saratoga</td>\n",
              "      <td>New York</td>\n",
              "      <td>36091.0</td>\n",
              "      <td>6060</td>\n",
              "      <td>44.0</td>\n",
              "    </tr>\n",
              "    <tr>\n",
              "      <th>893195</th>\n",
              "      <td>2021-01-03</td>\n",
              "      <td>Saratoga</td>\n",
              "      <td>New York</td>\n",
              "      <td>36091.0</td>\n",
              "      <td>6243</td>\n",
              "      <td>48.0</td>\n",
              "    </tr>\n",
              "    <tr>\n",
              "      <th>896441</th>\n",
              "      <td>2021-01-04</td>\n",
              "      <td>Saratoga</td>\n",
              "      <td>New York</td>\n",
              "      <td>36091.0</td>\n",
              "      <td>6360</td>\n",
              "      <td>48.0</td>\n",
              "    </tr>\n",
              "    <tr>\n",
              "      <th>899686</th>\n",
              "      <td>2021-01-05</td>\n",
              "      <td>Saratoga</td>\n",
              "      <td>New York</td>\n",
              "      <td>36091.0</td>\n",
              "      <td>6543</td>\n",
              "      <td>48.0</td>\n",
              "    </tr>\n",
              "    <tr>\n",
              "      <th>902931</th>\n",
              "      <td>2021-01-06</td>\n",
              "      <td>Saratoga</td>\n",
              "      <td>New York</td>\n",
              "      <td>36091.0</td>\n",
              "      <td>6753</td>\n",
              "      <td>48.0</td>\n",
              "    </tr>\n",
              "    <tr>\n",
              "      <th>906177</th>\n",
              "      <td>2021-01-07</td>\n",
              "      <td>Saratoga</td>\n",
              "      <td>New York</td>\n",
              "      <td>36091.0</td>\n",
              "      <td>7027</td>\n",
              "      <td>49.0</td>\n",
              "    </tr>\n",
              "    <tr>\n",
              "      <th>909422</th>\n",
              "      <td>2021-01-08</td>\n",
              "      <td>Saratoga</td>\n",
              "      <td>New York</td>\n",
              "      <td>36091.0</td>\n",
              "      <td>7303</td>\n",
              "      <td>51.0</td>\n",
              "    </tr>\n",
              "    <tr>\n",
              "      <th>912667</th>\n",
              "      <td>2021-01-09</td>\n",
              "      <td>Saratoga</td>\n",
              "      <td>New York</td>\n",
              "      <td>36091.0</td>\n",
              "      <td>7511</td>\n",
              "      <td>52.0</td>\n",
              "    </tr>\n",
              "    <tr>\n",
              "      <th>915912</th>\n",
              "      <td>2021-01-10</td>\n",
              "      <td>Saratoga</td>\n",
              "      <td>New York</td>\n",
              "      <td>36091.0</td>\n",
              "      <td>7753</td>\n",
              "      <td>53.0</td>\n",
              "    </tr>\n",
              "    <tr>\n",
              "      <th>919157</th>\n",
              "      <td>2021-01-11</td>\n",
              "      <td>Saratoga</td>\n",
              "      <td>New York</td>\n",
              "      <td>36091.0</td>\n",
              "      <td>7960</td>\n",
              "      <td>59.0</td>\n",
              "    </tr>\n",
              "    <tr>\n",
              "      <th>922402</th>\n",
              "      <td>2021-01-12</td>\n",
              "      <td>Saratoga</td>\n",
              "      <td>New York</td>\n",
              "      <td>36091.0</td>\n",
              "      <td>8124</td>\n",
              "      <td>62.0</td>\n",
              "    </tr>\n",
              "    <tr>\n",
              "      <th>925648</th>\n",
              "      <td>2021-01-13</td>\n",
              "      <td>Saratoga</td>\n",
              "      <td>New York</td>\n",
              "      <td>36091.0</td>\n",
              "      <td>8226</td>\n",
              "      <td>65.0</td>\n",
              "    </tr>\n",
              "    <tr>\n",
              "      <th>928893</th>\n",
              "      <td>2021-01-14</td>\n",
              "      <td>Saratoga</td>\n",
              "      <td>New York</td>\n",
              "      <td>36091.0</td>\n",
              "      <td>8447</td>\n",
              "      <td>69.0</td>\n",
              "    </tr>\n",
              "  </tbody>\n",
              "</table>\n",
              "</div>"
            ],
            "text/plain": [
              "              date    county     state     fips  cases  deaths\n",
              "834780  2020-12-16  Saratoga  New York  36091.0   3716    26.0\n",
              "838026  2020-12-17  Saratoga  New York  36091.0   3809    26.0\n",
              "841271  2020-12-18  Saratoga  New York  36091.0   3908    27.0\n",
              "844517  2020-12-19  Saratoga  New York  36091.0   4008    28.0\n",
              "847762  2020-12-20  Saratoga  New York  36091.0   4096    28.0\n",
              "851007  2020-12-21  Saratoga  New York  36091.0   4179    29.0\n",
              "854252  2020-12-22  Saratoga  New York  36091.0   4316    29.0\n",
              "857497  2020-12-23  Saratoga  New York  36091.0   4414    29.0\n",
              "860742  2020-12-24  Saratoga  New York  36091.0   4608    30.0\n",
              "863987  2020-12-25  Saratoga  New York  36091.0   4741    32.0\n",
              "867232  2020-12-26  Saratoga  New York  36091.0   4868    34.0\n",
              "870477  2020-12-27  Saratoga  New York  36091.0   4993    35.0\n",
              "873722  2020-12-28  Saratoga  New York  36091.0   5130    36.0\n",
              "876967  2020-12-29  Saratoga  New York  36091.0   5268    38.0\n",
              "880212  2020-12-30  Saratoga  New York  36091.0   5413    38.0\n",
              "883457  2020-12-31  Saratoga  New York  36091.0   5588    40.0\n",
              "886702  2021-01-01  Saratoga  New York  36091.0   5796    43.0\n",
              "889949  2021-01-02  Saratoga  New York  36091.0   6060    44.0\n",
              "893195  2021-01-03  Saratoga  New York  36091.0   6243    48.0\n",
              "896441  2021-01-04  Saratoga  New York  36091.0   6360    48.0\n",
              "899686  2021-01-05  Saratoga  New York  36091.0   6543    48.0\n",
              "902931  2021-01-06  Saratoga  New York  36091.0   6753    48.0\n",
              "906177  2021-01-07  Saratoga  New York  36091.0   7027    49.0\n",
              "909422  2021-01-08  Saratoga  New York  36091.0   7303    51.0\n",
              "912667  2021-01-09  Saratoga  New York  36091.0   7511    52.0\n",
              "915912  2021-01-10  Saratoga  New York  36091.0   7753    53.0\n",
              "919157  2021-01-11  Saratoga  New York  36091.0   7960    59.0\n",
              "922402  2021-01-12  Saratoga  New York  36091.0   8124    62.0\n",
              "925648  2021-01-13  Saratoga  New York  36091.0   8226    65.0\n",
              "928893  2021-01-14  Saratoga  New York  36091.0   8447    69.0"
            ]
          },
          "metadata": {
            "tags": []
          },
          "execution_count": 38
        }
      ]
    },
    {
      "cell_type": "code",
      "metadata": {
        "colab": {
          "base_uri": "https://localhost:8080/",
          "height": 282
        },
        "id": "080dA1RqcTOD",
        "outputId": "e04b90f9-4112-4e37-f908-25f065f0ef71"
      },
      "source": [
        "#Visualization of Saratoga COVID-19 Data for the past 30 days\n",
        "Saratoga_data = Saratoga_data[[\"cases\",\"deaths\"]]\n",
        "Saratoga_data.plot()"
      ],
      "execution_count": 45,
      "outputs": [
        {
          "output_type": "execute_result",
          "data": {
            "text/plain": [
              "<matplotlib.axes._subplots.AxesSubplot at 0x7f84a3f5f630>"
            ]
          },
          "metadata": {
            "tags": []
          },
          "execution_count": 45
        },
        {
          "output_type": "display_data",
          "data": {
            "image/png": "[encoded data removed]",
            "text/plain": [
              "<Figure size 432x288 with 1 Axes>"
            ]
          },
          "metadata": {
            "tags": [],
            "needs_background": "light"
          }
        }
      ]
    },
    {
      "cell_type": "code",
      "metadata": {
        "colab": {
          "base_uri": "https://localhost:8080/",
          "height": 356
        },
        "id": "-7voYShTeWk5",
        "outputId": "444e36c7-7e32-466f-acf5-2aef297e8d89"
      },
      "source": [
        "#Task 5 : Comparing COVID-19 data with different states\n",
        "df = df.loc[df[\"state\"].isin([\"New York\", \"California\", \"Washington\", \"Utah\", \"Vermont\"])]\n",
        "print(df.groupby([\"state\"])[\"cases\"].sum().sort_values(ascending = True).plot(kind=\"bar\"))"
      ],
      "execution_count": 47,
      "outputs": [
        {
          "output_type": "stream",
          "text": [
            "AxesSubplot(0.125,0.125;0.775x0.755)\n"
          ],
          "name": "stdout"
        },
        {
          "output_type": "display_data",
          "data": {
            "image/png": "[encoded data removed]",
            "text/plain": [
              "<Figure size 432x288 with 1 Axes>"
            ]
          },
          "metadata": {
            "tags": [],
            "needs_background": "light"
          }
        }
      ]
    },
    {
      "cell_type": "markdown",
      "metadata": {
        "id": "ppc01AyahJZ-"
      },
      "source": [
        "From the above graph, we can see that California has the most COVID cases and Vermont has the least COVID cases."
      ]
    },
    {
      "cell_type": "code",
      "metadata": {
        "colab": {
          "base_uri": "https://localhost:8080/",
          "height": 356
        },
        "id": "W2dn8pXmfa5i",
        "outputId": "f855913a-9abb-4798-c94d-8e4398017b86"
      },
      "source": [
        "#Comparing COVID-19 cases with different states in 2020\n",
        "print(df.groupby([\"state\"])[\"deaths\"].sum().sort_values(ascending = True).plot(kind=\"bar\"))\n"
      ],
      "execution_count": 48,
      "outputs": [
        {
          "output_type": "stream",
          "text": [
            "AxesSubplot(0.125,0.125;0.775x0.755)\n"
          ],
          "name": "stdout"
        },
        {
          "output_type": "display_data",
          "data": {
            "image/png": "[encoded data removed]",
            "text/plain": [
              "<Figure size 432x288 with 1 Axes>"
            ]
          },
          "metadata": {
            "tags": [],
            "needs_background": "light"
          }
        }
      ]
    },
    {
      "cell_type": "markdown",
      "metadata": {
        "id": "CrNfoBrnhWdO"
      },
      "source": [
        "From the above graph, we can see that New York has the most COVID deaths compared to other states and Vermont has the least COVID deaths."
      ]
    }
  ]
}